{
 "cells": [
  {
   "cell_type": "markdown",
   "id": "04dbbcab-8adf-401c-80ec-2a27011208b3",
   "metadata": {},
   "source": [
    "# Data Science Tools and Ecosystem"
   ]
  },
  {
   "cell_type": "markdown",
   "id": "8ff99711-1c32-4d49-bda6-23a6602dab94",
   "metadata": {},
   "source": [
    "In this notebook, Data Science Tools and Ecosystem are summarized."
   ]
  },
  {
   "cell_type": "markdown",
   "id": "ff1d7a44-136d-4ad6-8ef7-bc4704fb9813",
   "metadata": {},
   "source": [
    "**Objectives:**\n",
    "\n",
    "* List popular languages in Data Science\n",
    "* List commonly used libraries in Data Science\n",
    "* Mention some of the top Data Science Tools\n",
    "* Show examples of simple codes and add comments"
   ]
  },
  {
   "cell_type": "markdown",
   "id": "ef2b180c-298c-42d8-8d7a-1f5a908de428",
   "metadata": {},
   "source": [
    "Some of the popular languages that Data Scientist use are:\n",
    "\n",
    "    1. Python\n",
    "    2. SQL\n",
    "    3. R\n",
    "    4. VBA (Visual Basic for Applications)\n",
    "    5. Julia\n",
    "    6. Java\n",
    "    7. JavaScript\n",
    "    8. C/C++\n",
    "    9. Scala\n",
    "    10. Swift"
   ]
  },
  {
   "cell_type": "markdown",
   "id": "13f7558f-2e74-4578-8e41-61909556e634",
   "metadata": {},
   "source": [
    "Some of the commonly used libraries used by Data Scientist include:\n",
    "\n",
    "    1. NumPy\n",
    "    2. SciPy\n",
    "    3. Scikit-Learn\n",
    "    4. GgMap\n",
    "    5. PyTorch\n",
    "    6. Pandas\n",
    "    7. Matplotlib\n",
    "    8. Keras\n",
    "    9. Statsmodels\n",
    "    10. GgPlot"
   ]
  },
  {
   "cell_type": "markdown",
   "id": "067036f6-f579-45db-a3a5-aa55d0b8b674",
   "metadata": {},
   "source": [
    "| Data Science Tools |\n",
    "|:------------------:|\n",
    "| RStudio            |\n",
    "| ApacheSpark        |\n",
    "| TensorFlow         |"
   ]
  },
  {
   "cell_type": "markdown",
   "id": "f966080f-0ae4-49fe-a7db-71d6601c57ca",
   "metadata": {},
   "source": [
    "### Below are few examples of evaluating arithmetic expressions in Python."
   ]
  },
  {
   "cell_type": "code",
   "execution_count": null,
   "id": "b353ad9f-e628-4bca-a606-744801dd8009",
   "metadata": {},
   "outputs": [],
   "source": [
    "# This is a simple arithmetic expression to multiply then add integers\n",
    "\n",
    "print(3*4)+5"
   ]
  },
  {
   "cell_type": "code",
   "execution_count": 1,
   "id": "4981a7c9-3861-406a-a6cb-22f75973d0d1",
   "metadata": {},
   "outputs": [
    {
     "name": "stdout",
     "output_type": "stream",
     "text": [
      "3.3333333333333335\n"
     ]
    }
   ],
   "source": [
    "# This will convert 200 minutes to hours by dividing by 60.\n",
    "\n",
    "print(200/60)"
   ]
  },
  {
   "cell_type": "markdown",
   "id": "a8eceb28-9238-498c-8dac-c1414e3b9b63",
   "metadata": {},
   "source": [
    "## Author\n",
    "Consuelo Gonzalez Avila"
   ]
  }
 ],
 "metadata": {
  "kernelspec": {
   "display_name": "Python 3 (ipykernel)",
   "language": "python",
   "name": "python3"
  },
  "language_info": {
   "codemirror_mode": {
    "name": "ipython",
    "version": 3
   },
   "file_extension": ".py",
   "mimetype": "text/x-python",
   "name": "python",
   "nbconvert_exporter": "python",
   "pygments_lexer": "ipython3",
   "version": "3.11.5"
  }
 },
 "nbformat": 4,
 "nbformat_minor": 5
}
